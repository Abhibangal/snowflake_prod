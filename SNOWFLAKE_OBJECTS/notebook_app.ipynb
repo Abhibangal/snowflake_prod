{
 "metadata": {
  "kernelspec": {
   "display_name": "Streamlit Notebook",
   "name": "streamlit"
  }
 },
 "nbformat_minor": 5,
 "nbformat": 4,
 "cells": [
  {
   "cell_type": "code",
   "id": "74bc20fb-9cff-4138-ad98-92a1dedc2b89",
   "metadata": {
    "language": "sql",
    "name": "sql_objects"
   },
   "outputs": [],
   "source": "--created a database and schema \nUSE ROLE ACCOUNTADMIN;\nUSE WAREHOUSE COMPUTE_WH;\nCREATE OR REPLACE DATABASE {{env}}_ED2FROM;\nCREATE OR REPLACE SCHEMA {{schema_name}};",
   "execution_count": null
  },
  {
   "cell_type": "code",
   "id": "44ff24c6-c90e-4a38-9a9b-a2433a9be6e0",
   "metadata": {
    "language": "sql",
    "name": "cell1"
   },
   "outputs": [],
   "source": "USE {{env}}_ED2FROM.{{schema_name}};\n\nCREATE OR REPLACE TRANSIENT TABLE EMP_DETAILS(\nEMPID INT,\nEMPNAME VARCHAR(20),\nEMPMGRID INT,\nSALARY NUMBER(5,2)\n);",
   "execution_count": null
  }
 ]
}